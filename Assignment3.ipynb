{
 "cells": [
  {
   "cell_type": "code",
   "execution_count": 1,
   "metadata": {},
   "outputs": [],
   "source": [
    "import numpy as np\n",
    "import pandas as pd\n",
    "\n",
    "from sklearn.model_selection import train_test_split\n",
    "from sklearn.preprocessing import StandardScaler\n",
    "\n",
    "from sklearn.linear_model import LinearRegression, LogisticRegression"
   ]
  },
  {
   "cell_type": "code",
   "execution_count": 2,
   "metadata": {},
   "outputs": [],
   "source": [
    "data = pd.read_csv('abalone.csv')"
   ]
  },
  {
   "cell_type": "code",
   "execution_count": 3,
   "metadata": {},
   "outputs": [
    {
     "data": {
      "text/html": [
       "<div>\n",
       "<style scoped>\n",
       "    .dataframe tbody tr th:only-of-type {\n",
       "        vertical-align: middle;\n",
       "    }\n",
       "\n",
       "    .dataframe tbody tr th {\n",
       "        vertical-align: top;\n",
       "    }\n",
       "\n",
       "    .dataframe thead th {\n",
       "        text-align: right;\n",
       "    }\n",
       "</style>\n",
       "<table border=\"1\" class=\"dataframe\">\n",
       "  <thead>\n",
       "    <tr style=\"text-align: right;\">\n",
       "      <th></th>\n",
       "      <th>sex</th>\n",
       "      <th>length</th>\n",
       "      <th>diameter</th>\n",
       "      <th>height</th>\n",
       "      <th>whole-weight</th>\n",
       "      <th>shucked-weight</th>\n",
       "      <th>viscera-weight</th>\n",
       "      <th>shell-weight</th>\n",
       "      <th>rings</th>\n",
       "    </tr>\n",
       "  </thead>\n",
       "  <tbody>\n",
       "    <tr>\n",
       "      <th>0</th>\n",
       "      <td>M</td>\n",
       "      <td>91</td>\n",
       "      <td>73</td>\n",
       "      <td>19</td>\n",
       "      <td>102.8</td>\n",
       "      <td>44.9</td>\n",
       "      <td>20.2</td>\n",
       "      <td>30.0</td>\n",
       "      <td>15</td>\n",
       "    </tr>\n",
       "    <tr>\n",
       "      <th>1</th>\n",
       "      <td>M</td>\n",
       "      <td>70</td>\n",
       "      <td>53</td>\n",
       "      <td>18</td>\n",
       "      <td>45.1</td>\n",
       "      <td>19.9</td>\n",
       "      <td>9.7</td>\n",
       "      <td>14.0</td>\n",
       "      <td>7</td>\n",
       "    </tr>\n",
       "    <tr>\n",
       "      <th>2</th>\n",
       "      <td>F</td>\n",
       "      <td>106</td>\n",
       "      <td>84</td>\n",
       "      <td>27</td>\n",
       "      <td>135.4</td>\n",
       "      <td>51.3</td>\n",
       "      <td>28.3</td>\n",
       "      <td>42.0</td>\n",
       "      <td>9</td>\n",
       "    </tr>\n",
       "    <tr>\n",
       "      <th>3</th>\n",
       "      <td>M</td>\n",
       "      <td>88</td>\n",
       "      <td>73</td>\n",
       "      <td>25</td>\n",
       "      <td>103.2</td>\n",
       "      <td>43.1</td>\n",
       "      <td>22.8</td>\n",
       "      <td>31.0</td>\n",
       "      <td>10</td>\n",
       "    </tr>\n",
       "    <tr>\n",
       "      <th>4</th>\n",
       "      <td>I</td>\n",
       "      <td>66</td>\n",
       "      <td>51</td>\n",
       "      <td>16</td>\n",
       "      <td>41.0</td>\n",
       "      <td>17.9</td>\n",
       "      <td>7.9</td>\n",
       "      <td>11.0</td>\n",
       "      <td>7</td>\n",
       "    </tr>\n",
       "    <tr>\n",
       "      <th>...</th>\n",
       "      <td>...</td>\n",
       "      <td>...</td>\n",
       "      <td>...</td>\n",
       "      <td>...</td>\n",
       "      <td>...</td>\n",
       "      <td>...</td>\n",
       "      <td>...</td>\n",
       "      <td>...</td>\n",
       "      <td>...</td>\n",
       "    </tr>\n",
       "    <tr>\n",
       "      <th>4172</th>\n",
       "      <td>F</td>\n",
       "      <td>113</td>\n",
       "      <td>90</td>\n",
       "      <td>33</td>\n",
       "      <td>177.4</td>\n",
       "      <td>74.0</td>\n",
       "      <td>47.8</td>\n",
       "      <td>49.8</td>\n",
       "      <td>11</td>\n",
       "    </tr>\n",
       "    <tr>\n",
       "      <th>4173</th>\n",
       "      <td>M</td>\n",
       "      <td>118</td>\n",
       "      <td>88</td>\n",
       "      <td>27</td>\n",
       "      <td>193.2</td>\n",
       "      <td>87.8</td>\n",
       "      <td>42.9</td>\n",
       "      <td>52.1</td>\n",
       "      <td>10</td>\n",
       "    </tr>\n",
       "    <tr>\n",
       "      <th>4174</th>\n",
       "      <td>M</td>\n",
       "      <td>120</td>\n",
       "      <td>95</td>\n",
       "      <td>41</td>\n",
       "      <td>235.2</td>\n",
       "      <td>105.1</td>\n",
       "      <td>57.5</td>\n",
       "      <td>61.6</td>\n",
       "      <td>9</td>\n",
       "    </tr>\n",
       "    <tr>\n",
       "      <th>4175</th>\n",
       "      <td>F</td>\n",
       "      <td>125</td>\n",
       "      <td>97</td>\n",
       "      <td>30</td>\n",
       "      <td>218.9</td>\n",
       "      <td>106.2</td>\n",
       "      <td>52.2</td>\n",
       "      <td>59.2</td>\n",
       "      <td>10</td>\n",
       "    </tr>\n",
       "    <tr>\n",
       "      <th>4176</th>\n",
       "      <td>M</td>\n",
       "      <td>142</td>\n",
       "      <td>111</td>\n",
       "      <td>39</td>\n",
       "      <td>389.7</td>\n",
       "      <td>189.1</td>\n",
       "      <td>75.3</td>\n",
       "      <td>99.0</td>\n",
       "      <td>12</td>\n",
       "    </tr>\n",
       "  </tbody>\n",
       "</table>\n",
       "<p>4177 rows × 9 columns</p>\n",
       "</div>"
      ],
      "text/plain": [
       "     sex  length  diameter  height  whole-weight  shucked-weight  \\\n",
       "0      M      91        73      19         102.8            44.9   \n",
       "1      M      70        53      18          45.1            19.9   \n",
       "2      F     106        84      27         135.4            51.3   \n",
       "3      M      88        73      25         103.2            43.1   \n",
       "4      I      66        51      16          41.0            17.9   \n",
       "...   ..     ...       ...     ...           ...             ...   \n",
       "4172   F     113        90      33         177.4            74.0   \n",
       "4173   M     118        88      27         193.2            87.8   \n",
       "4174   M     120        95      41         235.2           105.1   \n",
       "4175   F     125        97      30         218.9           106.2   \n",
       "4176   M     142       111      39         389.7           189.1   \n",
       "\n",
       "      viscera-weight  shell-weight  rings  \n",
       "0               20.2          30.0     15  \n",
       "1                9.7          14.0      7  \n",
       "2               28.3          42.0      9  \n",
       "3               22.8          31.0     10  \n",
       "4                7.9          11.0      7  \n",
       "...              ...           ...    ...  \n",
       "4172            47.8          49.8     11  \n",
       "4173            42.9          52.1     10  \n",
       "4174            57.5          61.6      9  \n",
       "4175            52.2          59.2     10  \n",
       "4176            75.3          99.0     12  \n",
       "\n",
       "[4177 rows x 9 columns]"
      ]
     },
     "execution_count": 3,
     "metadata": {},
     "output_type": "execute_result"
    }
   ],
   "source": [
    "data"
   ]
  },
  {
   "cell_type": "code",
   "execution_count": 4,
   "metadata": {},
   "outputs": [
    {
     "name": "stdout",
     "output_type": "stream",
     "text": [
      "<class 'pandas.core.frame.DataFrame'>\n",
      "RangeIndex: 4177 entries, 0 to 4176\n",
      "Data columns (total 9 columns):\n",
      " #   Column          Non-Null Count  Dtype  \n",
      "---  ------          --------------  -----  \n",
      " 0   sex             4177 non-null   object \n",
      " 1   length          4177 non-null   int64  \n",
      " 2   diameter        4177 non-null   int64  \n",
      " 3   height          4177 non-null   int64  \n",
      " 4   whole-weight    4177 non-null   float64\n",
      " 5   shucked-weight  4177 non-null   float64\n",
      " 6   viscera-weight  4177 non-null   float64\n",
      " 7   shell-weight    4177 non-null   float64\n",
      " 8   rings           4177 non-null   int64  \n",
      "dtypes: float64(4), int64(4), object(1)\n",
      "memory usage: 293.8+ KB\n"
     ]
    }
   ],
   "source": [
    "data.info()"
   ]
  },
  {
   "cell_type": "markdown",
   "metadata": {},
   "source": [
    "Preprocessing + Training Function"
   ]
  },
  {
   "cell_type": "code",
   "execution_count": 5,
   "metadata": {},
   "outputs": [],
   "source": [
    "def preprocess_and_train(df, target, task):\n",
    "    df = df.copy()\n",
    "    \n",
    "    # If the sex column is not the target, one-hot encode it\n",
    "    if target != 'sex':\n",
    "        dummies = pd.get_dummies(df['sex'])\n",
    "        df = pd.concat([df, dummies], axis=1)\n",
    "        df = df.drop('sex', axis=1)\n",
    "    \n",
    "    # Split target from df\n",
    "    y = df[target].copy()\n",
    "    X = df.drop(target, axis=1).copy()\n",
    "    \n",
    "    # Train-test split\n",
    "    X_train, X_test, y_train, y_test = train_test_split(X, y, train_size=0.7, random_state=1)\n",
    "    \n",
    "    # Scale X\n",
    "    scaler = StandardScaler()\n",
    "    scaler.fit(X_train)\n",
    "    X_train = pd.DataFrame(scaler.transform(X_train), columns=X.columns)\n",
    "    X_test = pd.DataFrame(scaler.transform(X_test), columns=X.columns)\n",
    "    \n",
    "    # Define model\n",
    "    if task == 'regression':\n",
    "        model = LinearRegression()\n",
    "    elif task == 'classification':\n",
    "        model = LogisticRegression()\n",
    "    \n",
    "    # Fit model to train set\n",
    "    model.fit(X_train, y_train)\n",
    "    \n",
    "    # Return the test results\n",
    "    return model.score(X_test, y_test)"
   ]
  },
  {
   "cell_type": "markdown",
   "metadata": {},
   "source": [
    "Predicting Sex Column"
   ]
  },
  {
   "cell_type": "code",
   "execution_count": 7,
   "metadata": {},
   "outputs": [
    {
     "data": {
      "text/html": [
       "<div>\n",
       "<style scoped>\n",
       "    .dataframe tbody tr th:only-of-type {\n",
       "        vertical-align: middle;\n",
       "    }\n",
       "\n",
       "    .dataframe tbody tr th {\n",
       "        vertical-align: top;\n",
       "    }\n",
       "\n",
       "    .dataframe thead th {\n",
       "        text-align: right;\n",
       "    }\n",
       "</style>\n",
       "<table border=\"1\" class=\"dataframe\">\n",
       "  <thead>\n",
       "    <tr style=\"text-align: right;\">\n",
       "      <th></th>\n",
       "      <th>sex</th>\n",
       "      <th>length</th>\n",
       "      <th>diameter</th>\n",
       "      <th>height</th>\n",
       "      <th>whole-weight</th>\n",
       "      <th>shucked-weight</th>\n",
       "      <th>viscera-weight</th>\n",
       "      <th>shell-weight</th>\n",
       "      <th>rings</th>\n",
       "    </tr>\n",
       "  </thead>\n",
       "  <tbody>\n",
       "    <tr>\n",
       "      <th>0</th>\n",
       "      <td>M</td>\n",
       "      <td>91</td>\n",
       "      <td>73</td>\n",
       "      <td>19</td>\n",
       "      <td>102.8</td>\n",
       "      <td>44.9</td>\n",
       "      <td>20.2</td>\n",
       "      <td>30.0</td>\n",
       "      <td>15</td>\n",
       "    </tr>\n",
       "    <tr>\n",
       "      <th>1</th>\n",
       "      <td>M</td>\n",
       "      <td>70</td>\n",
       "      <td>53</td>\n",
       "      <td>18</td>\n",
       "      <td>45.1</td>\n",
       "      <td>19.9</td>\n",
       "      <td>9.7</td>\n",
       "      <td>14.0</td>\n",
       "      <td>7</td>\n",
       "    </tr>\n",
       "    <tr>\n",
       "      <th>2</th>\n",
       "      <td>F</td>\n",
       "      <td>106</td>\n",
       "      <td>84</td>\n",
       "      <td>27</td>\n",
       "      <td>135.4</td>\n",
       "      <td>51.3</td>\n",
       "      <td>28.3</td>\n",
       "      <td>42.0</td>\n",
       "      <td>9</td>\n",
       "    </tr>\n",
       "    <tr>\n",
       "      <th>3</th>\n",
       "      <td>M</td>\n",
       "      <td>88</td>\n",
       "      <td>73</td>\n",
       "      <td>25</td>\n",
       "      <td>103.2</td>\n",
       "      <td>43.1</td>\n",
       "      <td>22.8</td>\n",
       "      <td>31.0</td>\n",
       "      <td>10</td>\n",
       "    </tr>\n",
       "    <tr>\n",
       "      <th>4</th>\n",
       "      <td>I</td>\n",
       "      <td>66</td>\n",
       "      <td>51</td>\n",
       "      <td>16</td>\n",
       "      <td>41.0</td>\n",
       "      <td>17.9</td>\n",
       "      <td>7.9</td>\n",
       "      <td>11.0</td>\n",
       "      <td>7</td>\n",
       "    </tr>\n",
       "    <tr>\n",
       "      <th>...</th>\n",
       "      <td>...</td>\n",
       "      <td>...</td>\n",
       "      <td>...</td>\n",
       "      <td>...</td>\n",
       "      <td>...</td>\n",
       "      <td>...</td>\n",
       "      <td>...</td>\n",
       "      <td>...</td>\n",
       "      <td>...</td>\n",
       "    </tr>\n",
       "    <tr>\n",
       "      <th>4172</th>\n",
       "      <td>F</td>\n",
       "      <td>113</td>\n",
       "      <td>90</td>\n",
       "      <td>33</td>\n",
       "      <td>177.4</td>\n",
       "      <td>74.0</td>\n",
       "      <td>47.8</td>\n",
       "      <td>49.8</td>\n",
       "      <td>11</td>\n",
       "    </tr>\n",
       "    <tr>\n",
       "      <th>4173</th>\n",
       "      <td>M</td>\n",
       "      <td>118</td>\n",
       "      <td>88</td>\n",
       "      <td>27</td>\n",
       "      <td>193.2</td>\n",
       "      <td>87.8</td>\n",
       "      <td>42.9</td>\n",
       "      <td>52.1</td>\n",
       "      <td>10</td>\n",
       "    </tr>\n",
       "    <tr>\n",
       "      <th>4174</th>\n",
       "      <td>M</td>\n",
       "      <td>120</td>\n",
       "      <td>95</td>\n",
       "      <td>41</td>\n",
       "      <td>235.2</td>\n",
       "      <td>105.1</td>\n",
       "      <td>57.5</td>\n",
       "      <td>61.6</td>\n",
       "      <td>9</td>\n",
       "    </tr>\n",
       "    <tr>\n",
       "      <th>4175</th>\n",
       "      <td>F</td>\n",
       "      <td>125</td>\n",
       "      <td>97</td>\n",
       "      <td>30</td>\n",
       "      <td>218.9</td>\n",
       "      <td>106.2</td>\n",
       "      <td>52.2</td>\n",
       "      <td>59.2</td>\n",
       "      <td>10</td>\n",
       "    </tr>\n",
       "    <tr>\n",
       "      <th>4176</th>\n",
       "      <td>M</td>\n",
       "      <td>142</td>\n",
       "      <td>111</td>\n",
       "      <td>39</td>\n",
       "      <td>389.7</td>\n",
       "      <td>189.1</td>\n",
       "      <td>75.3</td>\n",
       "      <td>99.0</td>\n",
       "      <td>12</td>\n",
       "    </tr>\n",
       "  </tbody>\n",
       "</table>\n",
       "<p>4177 rows × 9 columns</p>\n",
       "</div>"
      ],
      "text/plain": [
       "     sex  length  diameter  height  whole-weight  shucked-weight  \\\n",
       "0      M      91        73      19         102.8            44.9   \n",
       "1      M      70        53      18          45.1            19.9   \n",
       "2      F     106        84      27         135.4            51.3   \n",
       "3      M      88        73      25         103.2            43.1   \n",
       "4      I      66        51      16          41.0            17.9   \n",
       "...   ..     ...       ...     ...           ...             ...   \n",
       "4172   F     113        90      33         177.4            74.0   \n",
       "4173   M     118        88      27         193.2            87.8   \n",
       "4174   M     120        95      41         235.2           105.1   \n",
       "4175   F     125        97      30         218.9           106.2   \n",
       "4176   M     142       111      39         389.7           189.1   \n",
       "\n",
       "      viscera-weight  shell-weight  rings  \n",
       "0               20.2          30.0     15  \n",
       "1                9.7          14.0      7  \n",
       "2               28.3          42.0      9  \n",
       "3               22.8          31.0     10  \n",
       "4                7.9          11.0      7  \n",
       "...              ...           ...    ...  \n",
       "4172            47.8          49.8     11  \n",
       "4173            42.9          52.1     10  \n",
       "4174            57.5          61.6      9  \n",
       "4175            52.2          59.2     10  \n",
       "4176            75.3          99.0     12  \n",
       "\n",
       "[4177 rows x 9 columns]"
      ]
     },
     "execution_count": 7,
     "metadata": {},
     "output_type": "execute_result"
    }
   ],
   "source": [
    "data"
   ]
  },
  {
   "cell_type": "code",
   "execution_count": 8,
   "metadata": {},
   "outputs": [
    {
     "name": "stdout",
     "output_type": "stream",
     "text": [
      "Sex Classification Accuracy: 57.10%\n"
     ]
    }
   ],
   "source": [
    "results = preprocess_and_train(data, target='sex', task='classification')\n",
    "\n",
    "print(\"Sex Classification Accuracy: {:.2f}%\".format(results * 100))"
   ]
  },
  {
   "cell_type": "markdown",
   "metadata": {},
   "source": [
    "Predicting Length Column"
   ]
  },
  {
   "cell_type": "code",
   "execution_count": 9,
   "metadata": {},
   "outputs": [
    {
     "name": "stdout",
     "output_type": "stream",
     "text": [
      "Length Regression R^2: 0.9753\n"
     ]
    }
   ],
   "source": [
    "results = preprocess_and_train(data, target='length', task='regression')\n",
    "\n",
    "print(\"Length Regression R^2: {:.4f}\".format(results))"
   ]
  },
  {
   "cell_type": "markdown",
   "metadata": {},
   "source": [
    "Predicting Diameter Column"
   ]
  },
  {
   "cell_type": "code",
   "execution_count": 10,
   "metadata": {},
   "outputs": [
    {
     "name": "stdout",
     "output_type": "stream",
     "text": [
      "Diameter Regression R^2: 0.9758\n"
     ]
    }
   ],
   "source": [
    "results = preprocess_and_train(data, target='diameter', task='regression')\n",
    "\n",
    "print(\"Diameter Regression R^2: {:.4f}\".format(results))"
   ]
  },
  {
   "cell_type": "markdown",
   "metadata": {},
   "source": [
    "Predicting Height Column"
   ]
  },
  {
   "cell_type": "code",
   "execution_count": 11,
   "metadata": {},
   "outputs": [
    {
     "name": "stdout",
     "output_type": "stream",
     "text": [
      "Height Regression R^2: 0.8147\n"
     ]
    }
   ],
   "source": [
    "results = preprocess_and_train(data, target='height', task='regression')\n",
    "\n",
    "print(\"Height Regression R^2: {:.4f}\".format(results))"
   ]
  },
  {
   "cell_type": "markdown",
   "metadata": {},
   "source": [
    "Predicting Whole-Weight Column"
   ]
  },
  {
   "cell_type": "code",
   "execution_count": 12,
   "metadata": {},
   "outputs": [
    {
     "name": "stdout",
     "output_type": "stream",
     "text": [
      "Whole-Weight Regression R^2: 0.9908\n"
     ]
    }
   ],
   "source": [
    "results = preprocess_and_train(data, target='whole-weight', task='regression')\n",
    "\n",
    "print(\"Whole-Weight Regression R^2: {:.4f}\".format(results))"
   ]
  },
  {
   "cell_type": "code",
   "execution_count": null,
   "metadata": {},
   "outputs": [],
   "source": []
  }
 ],
 "metadata": {
  "kernelspec": {
   "display_name": "Python 3",
   "language": "python",
   "name": "python3"
  },
  "language_info": {
   "codemirror_mode": {
    "name": "ipython",
    "version": 3
   },
   "file_extension": ".py",
   "mimetype": "text/x-python",
   "name": "python",
   "nbconvert_exporter": "python",
   "pygments_lexer": "ipython3",
   "version": "3.7.6"
  }
 },
 "nbformat": 4,
 "nbformat_minor": 4
}
